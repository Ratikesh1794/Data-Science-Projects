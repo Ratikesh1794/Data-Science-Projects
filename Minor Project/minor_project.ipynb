{
 "cells": [
  {
   "cell_type": "markdown",
   "metadata": {},
   "source": [
    "## Expense Tracker App"
   ]
  },
  {
   "cell_type": "markdown",
   "metadata": {},
   "source": [
    "### Submitted by\n",
    "#### Name - Ratikesh Kumar Singh\n",
    "#### Email - ratikeshsingh@gmail.com\n",
    "#### Ph.no - +91 8603702284"
   ]
  },
  {
   "cell_type": "code",
   "execution_count": 1,
   "metadata": {},
   "outputs": [],
   "source": [
    "import csv\n",
    "import os"
   ]
  },
  {
   "cell_type": "code",
   "execution_count": 2,
   "metadata": {},
   "outputs": [],
   "source": [
    "def load_expenses(file_name):\n",
    "    expenses = []\n",
    "    if os.path.exists(file_name):\n",
    "        with open(file_name, 'r') as file:\n",
    "            reader = csv.DictReader(file)\n",
    "            for row in reader:\n",
    "                expenses.append({'Date': row['Date'], 'Category': row['Category'], 'Amount': float(row['Amount'])})\n",
    "    return expenses"
   ]
  },
  {
   "cell_type": "code",
   "execution_count": 3,
   "metadata": {},
   "outputs": [],
   "source": [
    "def save_expenses(file_name, expenses):\n",
    "    with open(file_name, 'w', newline='') as file:\n",
    "        fieldnames = ['Date', 'Category', 'Amount']\n",
    "        writer = csv.DictWriter(file, fieldnames=fieldnames)\n",
    "        writer.writeheader()\n",
    "        for expense in expenses:\n",
    "            writer.writerow(expense)"
   ]
  },
  {
   "cell_type": "code",
   "execution_count": 4,
   "metadata": {},
   "outputs": [],
   "source": [
    "def add_expense(expenses):\n",
    "    date = input(\"Enter the date (YYYY-MM-DD): \")\n",
    "    category = input(\"Enter the category: \")\n",
    "    amount = float(input(\"Enter the amount spent: \"))\n",
    "    \n",
    "    expenses.append({'Date': date, 'Category': category, 'Amount': amount})\n",
    "    print(\"Expense added successfully!\")"
   ]
  },
  {
   "cell_type": "code",
   "execution_count": 5,
   "metadata": {},
   "outputs": [],
   "source": [
    "def delete_expense(expenses):\n",
    "    date = input(\"Enter the date (YYYY-MM-DD) of the expense to delete: \")\n",
    "    category = input(\"Enter the category of the expense to delete: \")\n",
    "\n",
    "    expenses_to_delete = [expense for expense in expenses if expense['Date'] == date and expense['Category'] == category]\n",
    "\n",
    "    if expenses_to_delete:\n",
    "        for expense in expenses_to_delete:\n",
    "            expenses.remove(expense)\n",
    "        print(\"Expense(s) deleted successfully!\")\n",
    "    else:\n",
    "        print(\"No expenses found for the given date and category.\")"
   ]
  },
  {
   "cell_type": "code",
   "execution_count": 6,
   "metadata": {},
   "outputs": [],
   "source": [
    "def view_expenses(expenses):\n",
    "    expenses.sort(key=lambda x: x['Date'])\n",
    "\n",
    "    current_date = None\n",
    "    total_spent = 0\n",
    "\n",
    "    for expense in expenses:\n",
    "        if current_date != expense['Date']:\n",
    "            if current_date is not None:\n",
    "                print(f\"Total spent on {current_date}: Rs. {total_spent:.2f}\")\n",
    "                print()\n",
    "            current_date = expense['Date']\n",
    "            total_spent = 0\n",
    "            print(current_date)\n",
    "\n",
    "        category = expense['Category']\n",
    "        amount = expense['Amount']\n",
    "        print(f\"{category}: Rs. {amount:.2f}\")\n",
    "        total_spent += amount\n",
    "\n",
    "    if current_date is not None:\n",
    "        print(f\"Total spent on {current_date}: Rs. {total_spent:.2f}\")"
   ]
  },
  {
   "cell_type": "code",
   "execution_count": 7,
   "metadata": {},
   "outputs": [],
   "source": [
    "def main():\n",
    "    file_name = \"expenses.csv\"\n",
    "    expenses = load_expenses(file_name)\n",
    "\n",
    "    while True:\n",
    "        print(\"\\nExpense Tracker Menu:\")\n",
    "        print(\"1. Add Expenses\")\n",
    "        print(\"2. Delete Expenses\")\n",
    "        print(\"3. View Expenses\")\n",
    "        print(\"4. Exit\")\n",
    "        choice = input(\"Enter your choice (1/2/3/4): \")\n",
    "\n",
    "        if choice == '1':\n",
    "            add_expense(expenses)\n",
    "        elif choice == '2':\n",
    "            delete_expense(expenses)\n",
    "        elif choice == '3':\n",
    "            view_expenses(expenses)\n",
    "        elif choice == '4':\n",
    "            save_expenses(file_name, expenses)\n",
    "            print(\"Expense data saved. Exiting...\")\n",
    "            break\n",
    "        else:\n",
    "            print(\"Invalid choice. Please try again.\")"
   ]
  },
  {
   "cell_type": "code",
   "execution_count": 8,
   "metadata": {},
   "outputs": [
    {
     "name": "stdout",
     "output_type": "stream",
     "text": [
      "\n",
      "Expense Tracker Menu:\n",
      "1. Add Expenses\n",
      "2. Delete Expenses\n",
      "3. View Expenses\n",
      "4. Exit\n",
      "Enter your choice (1/2/3/4): 2\n",
      "Enter the date (YYYY-MM-DD) of the expense to delete: 2023-07-15\n",
      "Enter the category of the expense to delete: Shopping\n",
      "Expense(s) deleted successfully!\n",
      "\n",
      "Expense Tracker Menu:\n",
      "1. Add Expenses\n",
      "2. Delete Expenses\n",
      "3. View Expenses\n",
      "4. Exit\n",
      "Enter your choice (1/2/3/4): 3\n",
      "2023-07-15\n",
      "Travel: Rs. 50.00\n",
      "Food/Lunch: Rs. 200.00\n",
      "Total spent on 2023-07-15: Rs. 250.00\n",
      "\n",
      "2023-07-16\n",
      "Food/Dinner: Rs. 500.00\n",
      "Total spent on 2023-07-16: Rs. 500.00\n",
      "\n",
      "Expense Tracker Menu:\n",
      "1. Add Expenses\n",
      "2. Delete Expenses\n",
      "3. View Expenses\n",
      "4. Exit\n",
      "Enter your choice (1/2/3/4): 4\n",
      "Expense data saved. Exiting...\n"
     ]
    }
   ],
   "source": [
    "if __name__ == \"__main__\":\n",
    "    main()"
   ]
  },
  {
   "cell_type": "code",
   "execution_count": null,
   "metadata": {},
   "outputs": [],
   "source": []
  }
 ],
 "metadata": {
  "kernelspec": {
   "display_name": "Python 3 (ipykernel)",
   "language": "python",
   "name": "python3"
  },
  "language_info": {
   "codemirror_mode": {
    "name": "ipython",
    "version": 3
   },
   "file_extension": ".py",
   "mimetype": "text/x-python",
   "name": "python",
   "nbconvert_exporter": "python",
   "pygments_lexer": "ipython3",
   "version": "3.10.9"
  }
 },
 "nbformat": 4,
 "nbformat_minor": 2
}
